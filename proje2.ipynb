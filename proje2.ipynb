{
  "nbformat": 4,
  "nbformat_minor": 0,
  "metadata": {
    "colab": {
      "provenance": [],
      "authorship_tag": "ABX9TyOaGQaRnyTw3t4+/0OaLN6D",
      "include_colab_link": true
    },
    "kernelspec": {
      "name": "python3",
      "display_name": "Python 3"
    },
    "language_info": {
      "name": "python"
    }
  },
  "cells": [
    {
      "cell_type": "markdown",
      "metadata": {
        "id": "view-in-github",
        "colab_type": "text"
      },
      "source": [
        "<a href=\"https://colab.research.google.com/github/enesordek/proje2/blob/main/proje2.ipynb\" target=\"_parent\"><img src=\"https://colab.research.google.com/assets/colab-badge.svg\" alt=\"Open In Colab\"/></a>"
      ]
    },
    {
      "cell_type": "code",
      "execution_count": 1,
      "metadata": {
        "colab": {
          "base_uri": "https://localhost:8080/"
        },
        "id": "c_kDKMQCDk5z",
        "outputId": "204a07c1-c7ce-45f4-b60b-ce99f9879fe5"
      },
      "outputs": [
        {
          "output_type": "stream",
          "name": "stdout",
          "text": [
            "Türkçe\n"
          ]
        }
      ],
      "source": [
        "def dil_tespit(metin):\n",
        "    # Her dil için karakteristik kelimeler ve ağırlıkları\n",
        "    kelimeler = {\n",
        "        'Türkçe': [(\"ve\", 3), (\"bir\", 2), (\"ile\", 2), (\"ama\", 1), (\"çünkü\", 1)],\n",
        "        'İngilizce': [(\"the\", 3), (\"and\", 2), (\"is\", 2), (\"in\", 1), (\"but\", 1)],\n",
        "        'Almanca': [(\"und\", 3), (\"der\", 2), (\"ist\", 2), (\"ein\", 1), (\"weil\", 1)],\n",
        "        'Fransızca': [(\"le\", 3), (\"et\", 2), (\"est\", 2), (\"un\", 1), (\"mais\", 1)],\n",
        "        'İspanyolca': [(\"el\", 3), (\"y\", 2), (\"es\", 2), (\"en\", 1), (\"porque\", 1)]\n",
        "    }\n",
        "\n",
        "    # Skorları başlat\n",
        "    skorlar = {'Türkçe': 0, 'İngilizce': 0, 'Almanca': 0, 'Fransızca': 0, 'İspanyolca': 0}\n",
        "\n",
        "    # Metni küçük harfe çevir\n",
        "    metin = metin.lower()\n",
        "\n",
        "    # Kelimeler üzerinden puanlama\n",
        "    for dil, kelime_listesi in kelimeler.items():\n",
        "        for kelime, agirlik in kelime_listesi:\n",
        "            skorlar[dil] += metin.count(kelime) * agirlik\n",
        "\n",
        "    # En yüksek skoru alan dili seç\n",
        "    en_yuksek_dil = max(skorlar, key=skorlar.get)\n",
        "\n",
        "    # Eğer tüm skorlar sıfırsa \"Dil tespit edilemedi\" döndür\n",
        "    if skorlar[en_yuksek_dil] == 0:\n",
        "        return \"Dil tespit edilemedi\"\n",
        "\n",
        "    return en_yuksek_dil\n",
        "\n",
        "# Örnek kullanım\n",
        "metin = \"Bu bir örnek cümledir ve dil tespit edilecektir.\"\n",
        "print(dil_tespit(metin))  # Çıktı: \"Türkçe\" olarak tespit edilmelidir\n"
      ]
    }
  ]
}